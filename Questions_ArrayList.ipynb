{
 "cells": [
  {
   "cell_type": "markdown",
   "metadata": {},
   "source": [
    "## **Question-1**"
   ]
  },
  {
   "cell_type": "markdown",
   "metadata": {},
   "source": [
    "### How to find the missing number in an integer array of 1 to 100?"
   ]
  },
  {
   "cell_type": "code",
   "execution_count": 1,
   "metadata": {},
   "outputs": [],
   "source": [
    "def missingNumber(array,n):\n",
    "    return sumOfN(n)-sum(array)\n",
    "\n",
    "def sumOfN(n):\n",
    "    if(n==0):\n",
    "        return 0\n",
    "    else:\n",
    "        return n+sumOfN(n-1)"
   ]
  },
  {
   "cell_type": "code",
   "execution_count": 2,
   "metadata": {},
   "outputs": [
    {
     "data": {
      "text/plain": [
       "72"
      ]
     },
     "execution_count": 2,
     "metadata": {},
     "output_type": "execute_result"
    }
   ],
   "source": [
    "n=100\n",
    "array=[1,2,3,4,5,6,7,8,9,10,11,12,13,14,15,16,17,18,19,20,21,22,23,24,25,26,27,28,\n",
    "        29,30,31,32,33,34,35,36,37,38,39,40,41,42,43,44,45,46,47,48,49,50,51,52,53,\n",
    "        54,55,56,57,58,59,60,61,62,63,64,65,66,67,68,69,70,71,73,74,75,76,77,78,\n",
    "        79,80,81,82,83,84,85,86,87,88,89,90,91,92,93,94,95,96,97,98,99,100]\n",
    "missingNumber(array,n)"
   ]
  },
  {
   "cell_type": "markdown",
   "metadata": {},
   "source": [
    "##### Iterate through the list and compute the sum of all numbers. Now, sum of natural numbers from 1 to N, can be expressed as Nx(N+1)/2. In this case we have N=100. For sum we have created a recursive function *sumOfN*.\n",
    "\n",
    "##### Subtract the sum of the array from sum of N terms, where N=100.\n",
    "\n",
    "##### That is the missing number."
   ]
  },
  {
   "cell_type": "markdown",
   "metadata": {},
   "source": [
    "## **Question-2**"
   ]
  },
  {
   "cell_type": "markdown",
   "metadata": {},
   "source": [
    "### Write a program to find all pair of integers whose sum is equal to a given number."
   ]
  },
  {
   "cell_type": "code",
   "execution_count": 3,
   "metadata": {},
   "outputs": [],
   "source": [
    "def pairsum(array,n):\n",
    "    for i in range(len(array)):\n",
    "#         for j in range(0,len(array)): # For range(0,len(array)) it will also give the pairs of similar numbers like (1,15) and (15,1) \n",
    "#         for j in range(i,len(array)): # For range(i,len(array)) it will also give pair of (8,8) that is of same numbers \n",
    "        for j in range(i+1,len(array)):\n",
    "            if array[i]+array[j]==n:\n",
    "                print(\"Pairs of integers whose sum is equal to n is : \" + \n",
    "                      \"(\" + str(array[i]) + \",\" + str(array[j]) + \")\")"
   ]
  },
  {
   "cell_type": "code",
   "execution_count": 4,
   "metadata": {},
   "outputs": [
    {
     "data": {
      "text/plain": [
       "array([ 1,  2,  3,  4,  5,  6,  7,  8,  9, 10, 11, 12, 13, 14, 15, 16, 17,\n",
       "       18, 19, 20])"
      ]
     },
     "execution_count": 4,
     "metadata": {},
     "output_type": "execute_result"
    }
   ],
   "source": [
    "import numpy as np\n",
    "array=np.linspace(1,20,20)\n",
    "array\n",
    "arr=array.astype('int32')\n",
    "arr"
   ]
  },
  {
   "cell_type": "code",
   "execution_count": 5,
   "metadata": {},
   "outputs": [
    {
     "name": "stdout",
     "output_type": "stream",
     "text": [
      "Pairs of integers whose sum is equal to n is : (1,15)\n",
      "Pairs of integers whose sum is equal to n is : (2,14)\n",
      "Pairs of integers whose sum is equal to n is : (3,13)\n",
      "Pairs of integers whose sum is equal to n is : (4,12)\n",
      "Pairs of integers whose sum is equal to n is : (5,11)\n",
      "Pairs of integers whose sum is equal to n is : (6,10)\n",
      "Pairs of integers whose sum is equal to n is : (7,9)\n"
     ]
    }
   ],
   "source": [
    "array=arr\n",
    "n=16\n",
    "pairsum(array,n)"
   ]
  },
  {
   "cell_type": "markdown",
   "metadata": {},
   "source": [
    "## **Question-3**"
   ]
  },
  {
   "cell_type": "markdown",
   "metadata": {},
   "source": [
    "### How to check is an array contains a number in Python?"
   ]
  },
  {
   "cell_type": "code",
   "execution_count": 6,
   "metadata": {},
   "outputs": [
    {
     "data": {
      "text/plain": [
       "array([ 1,  2,  3,  4,  5,  6,  7,  8,  9, 10, 11, 12, 13, 14, 15, 16, 17,\n",
       "       18, 19, 20])"
      ]
     },
     "execution_count": 6,
     "metadata": {},
     "output_type": "execute_result"
    }
   ],
   "source": [
    "import numpy as np\n",
    "array=np.linspace(1,20,20)\n",
    "arr=array.astype('int32')\n",
    "arr"
   ]
  },
  {
   "cell_type": "code",
   "execution_count": 7,
   "metadata": {},
   "outputs": [],
   "source": [
    "def findNumber(array,number):\n",
    "    for i in range(0,len(array)):\n",
    "        if array[i]==number:\n",
    "            return (\"Number found at: \" + str(i))\n",
    "    return (\"Number doesn't exist in this array\")"
   ]
  },
  {
   "cell_type": "code",
   "execution_count": 8,
   "metadata": {},
   "outputs": [
    {
     "data": {
      "text/plain": [
       "'Number found at: 11'"
      ]
     },
     "execution_count": 8,
     "metadata": {},
     "output_type": "execute_result"
    }
   ],
   "source": [
    "array=arr\n",
    "number=12\n",
    "findNumber(array,number)"
   ]
  },
  {
   "cell_type": "markdown",
   "metadata": {},
   "source": [
    "## **Question-4**"
   ]
  },
  {
   "cell_type": "markdown",
   "metadata": {},
   "source": [
    "### How to find maximum product of two integers in the array where all elements are positive?"
   ]
  },
  {
   "cell_type": "code",
   "execution_count": 9,
   "metadata": {},
   "outputs": [],
   "source": [
    "def findMaxProduct(array):\n",
    "    maxProduct=0\n",
    "    for i in range(0,len(array)):\n",
    "        for j in range(i+1,len(array)):\n",
    "            if (array[i]*array[j]>maxProduct):\n",
    "                maxProduct=array[i]*array[j]\n",
    "                pairs=str(array[i]) + \",\" + str(array[j]) + \",\" +\" Product is \" + str(array[i]*array[j])\n",
    "    print(pairs)"
   ]
  },
  {
   "cell_type": "code",
   "execution_count": 10,
   "metadata": {},
   "outputs": [
    {
     "data": {
      "text/plain": [
       "array([31, 22, 30, 93, 99, 52, 73, 55, 72,  1, 59, 46, 91, 28, 48, 92, 48,\n",
       "       90, 13, 88, 46])"
      ]
     },
     "execution_count": 10,
     "metadata": {},
     "output_type": "execute_result"
    }
   ],
   "source": [
    "import numpy as np\n",
    "array=100*np.random.rand(21)\n",
    "arr=array.astype('int32')\n",
    "arr"
   ]
  },
  {
   "cell_type": "code",
   "execution_count": 11,
   "metadata": {},
   "outputs": [
    {
     "name": "stdout",
     "output_type": "stream",
     "text": [
      "93,99, Product is 9207\n"
     ]
    }
   ],
   "source": [
    "array=arr\n",
    "findMaxProduct(array)"
   ]
  },
  {
   "cell_type": "markdown",
   "metadata": {},
   "source": [
    "## **Question-5**"
   ]
  },
  {
   "cell_type": "markdown",
   "metadata": {},
   "source": [
    "### Is Unique: Implement an algorithm to determine if a list has all unique characters, using python list."
   ]
  },
  {
   "cell_type": "code",
   "execution_count": 12,
   "metadata": {},
   "outputs": [],
   "source": [
    "myList=[1,20,30,44,5,56,57,8,19,10,31,12,13,14,15,35,16,27,58,19,21]\n",
    "def isUnique(List):\n",
    "    for i in range(0,len(List)):\n",
    "        for j in range(i+1,len(List)):\n",
    "            if List[i]==List[j]:\n",
    "                print(\"The Non Unique Number is : \" + str(List[i])) "
   ]
  },
  {
   "cell_type": "code",
   "execution_count": 13,
   "metadata": {},
   "outputs": [
    {
     "name": "stdout",
     "output_type": "stream",
     "text": [
      "The Non Unique Number is : 19\n"
     ]
    }
   ],
   "source": [
    "isUnique(myList)"
   ]
  },
  {
   "cell_type": "markdown",
   "metadata": {},
   "source": [
    "## **Question-6**"
   ]
  },
  {
   "cell_type": "markdown",
   "metadata": {},
   "source": [
    "### Permutation"
   ]
  },
  {
   "cell_type": "code",
   "execution_count": 14,
   "metadata": {},
   "outputs": [],
   "source": [
    "def permutation(list1,list2):\n",
    "    list2.reverse()\n",
    "    if list1==list2:\n",
    "        return True\n",
    "    else:\n",
    "        return False"
   ]
  },
  {
   "cell_type": "code",
   "execution_count": 15,
   "metadata": {},
   "outputs": [
    {
     "data": {
      "text/plain": [
       "True"
      ]
     },
     "execution_count": 15,
     "metadata": {},
     "output_type": "execute_result"
    }
   ],
   "source": [
    "list1=[1,2,3]\n",
    "list2=[3,2,1]\n",
    "permutation(list1,list2)"
   ]
  },
  {
   "cell_type": "markdown",
   "metadata": {},
   "source": [
    "## **Question-7**"
   ]
  },
  {
   "cell_type": "markdown",
   "metadata": {},
   "source": [
    "### Rotate Matrix"
   ]
  },
  {
   "cell_type": "code",
   "execution_count": 16,
   "metadata": {},
   "outputs": [
    {
     "data": {
      "text/plain": [
       "array([[1, 2, 3],\n",
       "       [4, 5, 6],\n",
       "       [7, 8, 9]])"
      ]
     },
     "execution_count": 16,
     "metadata": {},
     "output_type": "execute_result"
    }
   ],
   "source": [
    "import numpy as np\n",
    "myarray=np.array([[1,2,3],[4,5,6],[7,8,9]])\n",
    "myarray"
   ]
  },
  {
   "cell_type": "code",
   "execution_count": 17,
   "metadata": {},
   "outputs": [],
   "source": [
    "def rotMatrix(matrix):\n",
    "    n=len(matrix)\n",
    "    for layer in range(n//2):\n",
    "        first=layer\n",
    "        last=n-layer-1\n",
    "        for i in range(first,last):\n",
    "            # save top\n",
    "            top = matrix[layer][i]\n",
    "\n",
    "            # left -> top\n",
    "            matrix[layer][i] = matrix[-i - 1][layer]\n",
    "\n",
    "            # bottom -> left\n",
    "            matrix[-i - 1][layer] = matrix[-layer - 1][-i - 1]\n",
    "\n",
    "            # right -> bottom\n",
    "            matrix[-layer - 1][-i - 1] = matrix[i][- layer - 1]\n",
    "\n",
    "            # top -> right\n",
    "            matrix[i][- layer - 1] = top\n",
    "    return matrix\n",
    "    "
   ]
  },
  {
   "cell_type": "code",
   "execution_count": 22,
   "metadata": {},
   "outputs": [
    {
     "data": {
      "text/plain": [
       "array([[7, 4, 1],\n",
       "       [8, 5, 2],\n",
       "       [9, 6, 3]])"
      ]
     },
     "execution_count": 22,
     "metadata": {},
     "output_type": "execute_result"
    }
   ],
   "source": [
    "matrix=myarray\n",
    "rotMatrix(matrix)"
   ]
  }
 ],
 "metadata": {
  "kernelspec": {
   "display_name": "Python 3",
   "language": "python",
   "name": "python3"
  },
  "language_info": {
   "codemirror_mode": {
    "name": "ipython",
    "version": 3
   },
   "file_extension": ".py",
   "mimetype": "text/x-python",
   "name": "python",
   "nbconvert_exporter": "python",
   "pygments_lexer": "ipython3",
   "version": "3.8.5"
  }
 },
 "nbformat": 4,
 "nbformat_minor": 4
}
