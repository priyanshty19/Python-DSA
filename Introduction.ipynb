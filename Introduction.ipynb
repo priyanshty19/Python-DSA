{
 "cells": [
  {
   "cell_type": "markdown",
   "metadata": {},
   "source": [
    "## What is DataStruture?"
   ]
  },
  {
   "cell_type": "markdown",
   "metadata": {},
   "source": [
    "##### Different ways of organizing data on your computer, that can be used effectively "
   ]
  },
  {
   "cell_type": "markdown",
   "metadata": {},
   "source": [
    "## What is an Algorithm?"
   ]
  },
  {
   "cell_type": "markdown",
   "metadata": {},
   "source": [
    "> Set of steps to accomplish a task\n",
    "> - Input Data\n",
    "> - Calculation\n",
    "> - Stop when answer found "
   ]
  },
  {
   "cell_type": "markdown",
   "metadata": {},
   "source": [
    "## What makes a good ALgorithm?"
   ]
  },
  {
   "cell_type": "markdown",
   "metadata": {},
   "source": [
    "1. Correctness\n",
    "2. Efficiency"
   ]
  },
  {
   "cell_type": "markdown",
   "metadata": {},
   "source": [
    "## Why are Data Strucutres and Algotriths important?"
   ]
  },
  {
   "cell_type": "markdown",
   "metadata": {},
   "source": [
    "#### As a software developer or a computer scientist, our responsibility is to perform operations data\n",
    "> Data Processing\n",
    "> - INPUT(DATA)\n",
    "> - PROCESSING \n",
    "> - OUTPUR(INFROMATION)"
   ]
  },
  {
   "cell_type": "markdown",
   "metadata": {},
   "source": [
    "## Types Of Data Structures "
   ]
  },
  {
   "cell_type": "markdown",
   "metadata": {},
   "source": [
    "### 1. Primitive \n",
    "> - Interger\n",
    "    - Numbers with no decimal points.\n",
    "        - Eg: 1, 2, 3, 4, 5, 1000\n",
    "> - Float\n",
    "    - Number with decimal points.\n",
    "        - Eg: 3.5, 6.7, 6.976, 20.2 \n",
    "> - Character\n",
    "    - Single Character.\n",
    "        - Eg: A, B, C, D\n",
    "> - String\n",
    "    - Text.\n",
    "        - Hello, World!\n",
    "> - Boolean\n",
    "    - Logical Values true or false.\n",
    "        - TRUE, FALSE\n",
    "\n",
    "\n",
    "\n",
    "### 2. Non Primitive\n",
    "> Linear Data Structure\n",
    "> - Data Items are arranged in memory in a linear,  sequential manner, and they can be either static or dynamic.\n",
    "    - Static (Associated memory locations are fixed at compile time)\n",
    "        - Array\n",
    "    - Dyanamic (Associated memory locations change)\n",
    "        - Linked List \n",
    "        - Stack \n",
    "        - Queue\n",
    "\n",
    "> Non Linear Data Strcuture\n",
    "> - Data Items are connected t several other items, they are not organized sequentially\n",
    "    - Tree\n",
    "    - Graph "
   ]
  },
  {
   "cell_type": "markdown",
   "metadata": {},
   "source": [
    "## Types Of Algorithm"
   ]
  },
  {
   "cell_type": "markdown",
   "metadata": {},
   "source": [
    "- Simple Recursive Algorithms\n",
    "    - Work in the same way as iterative algorithms, recursion X as a loop\n",
    "- Divide And Conquer Algorithms\n",
    "    - Divide the problem into small subproblems of the same type, and solve these subproblems recursively.\n",
    "    - Combine the solutions to the subproblems into a solution to original problem.\n",
    "    - Eg: Quick Sort and Merge Sort\n",
    "- Dynamic Programming Algorithms\n",
    "    - They work based on memorization\n",
    "    - To find the best solution \n",
    "- Greedy Algorithms\n",
    "    - We take the best we can withour worrting about future consequences.\n",
    "    - We hope that by choosing a local optimum solution at each step, we will end up at a global optimum solution\n",
    "- Brute Force Algorithms\n",
    "    - It simply tries all possibilities until a satisfactory solution is found\n",
    "- Randomized Algorithms\n",
    "    - Use a random number at least once during the computation to make a decision "
   ]
  },
  {
   "cell_type": "markdown",
   "metadata": {},
   "source": [
    "# Thank You !"
   ]
  }
 ],
 "metadata": {
  "kernelspec": {
   "display_name": "Python 3",
   "language": "python",
   "name": "python3"
  },
  "language_info": {
   "codemirror_mode": {
    "name": "ipython",
    "version": 3
   },
   "file_extension": ".py",
   "mimetype": "text/x-python",
   "name": "python",
   "nbconvert_exporter": "python",
   "pygments_lexer": "ipython3",
   "version": "3.8.5"
  }
 },
 "nbformat": 4,
 "nbformat_minor": 4
}
