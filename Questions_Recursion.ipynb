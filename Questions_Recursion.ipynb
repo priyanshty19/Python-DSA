{
 "cells": [
  {
   "cell_type": "markdown",
   "metadata": {},
   "source": [
    "## **Question-1**\n",
    "### How to find the sum of digits of a positive integer number using recursion?"
   ]
  },
  {
   "cell_type": "code",
   "execution_count": 69,
   "metadata": {},
   "outputs": [],
   "source": [
    "def dig_sum(n):\n",
    "    assert n>=0 and int(n)==n , 'The number has to be a positive integer only!'\n",
    "    if n==0:\n",
    "        return 0\n",
    "    else:\n",
    "        return int(n%10) + dig_sum(int((n/10)))"
   ]
  },
  {
   "cell_type": "code",
   "execution_count": 70,
   "metadata": {},
   "outputs": [
    {
     "data": {
      "text/plain": [
       "9"
      ]
     },
     "execution_count": 70,
     "metadata": {},
     "output_type": "execute_result"
    }
   ],
   "source": [
    "n=54\n",
    "dig_sum(n)"
   ]
  },
  {
   "cell_type": "markdown",
   "metadata": {},
   "source": [
    "## **Question-2**\n",
    "### How to calculate power of a number using recursion"
   ]
  },
  {
   "cell_type": "code",
   "execution_count": 60,
   "metadata": {},
   "outputs": [],
   "source": [
    "def power(n,p):\n",
    "    assert p>=0 and int(p)==p , 'Exponent must be a positive integer only'\n",
    "    if p==0:\n",
    "        return 1\n",
    "    if p==1:\n",
    "        return n\n",
    "    else:\n",
    "        return n*power(n,p-1)"
   ]
  },
  {
   "cell_type": "code",
   "execution_count": 65,
   "metadata": {},
   "outputs": [
    {
     "data": {
      "text/plain": [
       "27"
      ]
     },
     "execution_count": 65,
     "metadata": {},
     "output_type": "execute_result"
    }
   ],
   "source": [
    "n=3\n",
    "p=3\n",
    "power(n,p)"
   ]
  },
  {
   "cell_type": "markdown",
   "metadata": {},
   "source": [
    "## **Question-3**\n",
    "### How to find GCD(Greatest Common Divisor) using Recrusion?"
   ]
  },
  {
   "cell_type": "code",
   "execution_count": 73,
   "metadata": {},
   "outputs": [],
   "source": [
    "#Using the Euclidean Algorithm\n",
    "def great(a,b):\n",
    "    assert int(a)==a and int(b)==b , 'The numbers must be integers only!'\n",
    "    if a<0:\n",
    "        a=-1*a\n",
    "    if b<0:\n",
    "        b=-1*b\n",
    "    if b==0:\n",
    "        return a\n",
    "    else:\n",
    "        return great(b,a%b)"
   ]
  },
  {
   "cell_type": "markdown",
   "metadata": {},
   "source": [
    "## **Question-4**\n",
    "### How to convert a number from decimal to binary "
   ]
  },
  {
   "cell_type": "code",
   "execution_count": 91,
   "metadata": {},
   "outputs": [],
   "source": [
    "def dec_to_bin(n):\n",
    "    assert int(n)==n, 'The parameter must be an integer only!'\n",
    "    if n==0:\n",
    "        return 0\n",
    "    else:\n",
    "        return int(n%2) + 10*dec_to_bin(int((n/2)))"
   ]
  },
  {
   "cell_type": "code",
   "execution_count": 92,
   "metadata": {},
   "outputs": [
    {
     "data": {
      "text/plain": [
       "1101"
      ]
     },
     "execution_count": 92,
     "metadata": {},
     "output_type": "execute_result"
    }
   ],
   "source": [
    "n=13\n",
    "dec_to_bin(n)"
   ]
  }
 ],
 "metadata": {
  "kernelspec": {
   "display_name": "Python 3",
   "language": "python",
   "name": "python3"
  },
  "language_info": {
   "codemirror_mode": {
    "name": "ipython",
    "version": 3
   },
   "file_extension": ".py",
   "mimetype": "text/x-python",
   "name": "python",
   "nbconvert_exporter": "python",
   "pygments_lexer": "ipython3",
   "version": "3.8.5"
  }
 },
 "nbformat": 4,
 "nbformat_minor": 4
}
